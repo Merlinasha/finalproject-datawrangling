{
 "cells": [
  {
   "cell_type": "code",
   "execution_count": null,
   "metadata": {},
   "outputs": [],
   "source": [
    "# Problem for Covid-19 Data Analysis Project using Python\n",
    "\n",
    "## Importing Libraries\n",
    "\n",
    "import pandas as pd\n",
    "import seaborn as sns\n",
    "import matplotlib.pyplot as plt\n"
   ]
  },
  {
   "cell_type": "code",
   "execution_count": null,
   "metadata": {},
   "outputs": [],
   "source": [
    "##1 Importing the Dataset\n",
    "\n",
    "url = \"https://raw.githubusercontent.com/SR1608/Datasets/main/coviddata.csv\"\n",
    "df = pd.read_csv(url)\n"
   ]
  },
  {
   "cell_type": "code",
   "execution_count": null,
   "metadata": {},
   "outputs": [],
   "source": [
    "###2 High level data Understanding:\n",
    "\n",
    "### a. Find no. of rows & columns in the datase\n",
    "rows, columns = df.shape\n",
    "print(\"Number of rows:\", rows)\n",
    "print(\"Number of columns:\", columns)\n",
    "\n",
    "### b. Data types of columns\n",
    "print(df.dtypes)\n",
    "\n",
    "### c. Info & describe of data in dataframe\n",
    "print(df.info())\n",
    "print(df.describe())\n"
   ]
  },
  {
   "cell_type": "code",
   "execution_count": null,
   "metadata": {},
   "outputs": [],
   "source": [
    "##3 Low Level Data Understanding\n",
    "\n",
    "### a. Find count of unique values in location column\n",
    "unique_locations = df['location'].nunique()\n",
    "print(\"Number of unique locations:\", unique_locations)\n",
    "\n",
    "### b. Find which continent has maximum frequency using values counts\n",
    "continent_frequency = df['continent'].value_counts()\n",
    "max_frequency_continent = continent_frequency.idxmax()\n",
    "print(\"Continent with maximum frequency:\", max_frequency_continent)\n",
    "\n",
    "### c. Find maximum & mean value in 'total_cases'\n",
    "max_total_cases = df['total_cases'].max()\n",
    "mean_total_cases = df['total_cases'].mean()\n",
    "print(\"Maximum total cases:\", max_total_cases)\n",
    "print(\"Mean total cases:\", mean_total_cases)\n",
    "\n",
    "### d. Find 25%, 50% & 75% quartile value in 'total_deaths'\n",
    "quartiles_total_deaths = df['total_deaths'].quantile([0.25, 0.5, 0.75])\n",
    "print(\"25% quartile value:\", quartiles_total_deaths[0.25])\n",
    "print(\"50% quartile value:\", quartiles_total_deaths[0.5])\n",
    "print(\"75% quartile value:\", quartiles_total_deaths[0.75])\n",
    "\n",
    "### e. Find which continent has maximum 'human_development_index'\n",
    "max_hdi_continent = df.loc[df['human_development_index'].idxmax(), 'continent']\n",
    "print(\"Continent with maximum human development index:\", max_hdi_continent)\n",
    "\n",
    "### f. Find which continent has minimum 'gdp_per_capita'\n",
    "min_gdp_continent = df.loc[df['gdp_per_capita'].idxmin(), 'continent']\n",
    "print(\"Continent with minimum GDP per capita:\", min_gdp_continent)\n"
   ]
  },
  {
   "cell_type": "code",
   "execution_count": null,
   "metadata": {},
   "outputs": [],
   "source": [
    "##4 Filter the Dataframe\n",
    "new_columns = ['continent', 'location', 'date', 'total_cases', 'total_deaths', 'gdp_per_capita', 'human_development_index']\n",
    "df_filtered = df[new_columns].copy()\n"
   ]
  },
  {
   "cell_type": "code",
   "execution_count": null,
   "metadata": {},
   "outputs": [],
   "source": [
    "##5 Data Cleaning\n",
    "\n",
    "### a. Remove all duplicate observations\n",
    "df_filtered.drop_duplicates(inplace=True)\n",
    "\n",
    "### b. Find missing values in all columns\n",
    "missing_values = df_filtered.isnull().sum()\n",
    "print(missing_values)\n",
    "\n",
    "### c. Remove all observations where continent column value is missing\n",
    "df_filtered.dropna(subset=['continent'], inplace=True)\n",
    "\n",
    "### d. Fill all missing values with 0\n",
    "df_filtered.fillna(0, inplace=True)"
   ]
  },
  {
   "cell_type": "code",
   "execution_count": null,
   "metadata": {},
   "outputs": [],
   "source": [
    "##6 Date time format\n",
    "\n",
    "### a. Convert date column in datetime format using pandas.to_datetime\n",
    "df_filtered['date'] = pd.to_datetime(df_filtered['date'])\n",
    "\n",
    "### b. Create new column month after extracting month data from date column\n",
    "df_filtered['month'] = df_filtered['date'].dt.month\n"
   ]
  },
  {
   "cell_type": "code",
   "execution_count": null,
   "metadata": {},
   "outputs": [],
   "source": [
    "##7 Data Aggregation\n",
    "df_groupby = df_filtered.groupby('continent').max().reset_index()"
   ]
  },
  {
   "cell_type": "code",
   "execution_count": null,
   "metadata": {},
   "outputs": [],
   "source": [
    "##8 Feature Engineering\n",
    "\n",
    "### a. Create a new feature 'total_deaths_to_total_cases' by ratio of 'total_deaths' column to 'total_cases'\n",
    "df_groupby['total_deaths_to_total_cases'] = df_groupby['total_deaths'] / df_groupby['total_cases']\n"
   ]
  },
  {
   "cell_type": "code",
   "execution_count": null,
   "metadata": {},
   "outputs": [],
   "source": [
    "##9 Data Visualization\n",
    "\n",
    "### a. Perform Univariate analysis on 'gdp_per_capita' column by plotting histogram using seaborn dist plot\n",
    "sns.distplot(df_groupby['gdp_per_capita'])\n",
    "plt.show()\n",
    "\n",
    "### b. Plot a scatter plot of 'total_cases' & 'gdp_per_capita'\n",
    "plt.scatter(df_groupby['total_cases'], df_groupby['gdp_per_capita'])\n",
    "plt.xlabel('Total Cases')\n",
    "plt.ylabel('GDP per Capita')\n",
    "plt.show()\n",
    "\n",
    "### c. Plot Pairplot on df_groupby dataset.\n",
    "sns.pairplot(df_groupby)\n",
    "plt.show()\n",
    "\n",
    "### d. Plot a bar plot of 'continent' column with 'total_cases'\n",
    "sns.catplot(x='continent', y='total_cases', kind='bar', data=df_groupby)\n",
    "plt.show()\n"
   ]
  },
  {
   "cell_type": "code",
   "execution_count": null,
   "metadata": {},
   "outputs": [],
   "source": [
    "##10 Save the df_groupby dataframe to Local Drive\n",
    "df_groupby.to_csv('df_groupby.csv', index=False)"
   ]
  }
 ],
 "metadata": {
  "kernelspec": {
   "display_name": "Python 3",
   "language": "python",
   "name": "python3"
  },
  "language_info": {
   "codemirror_mode": {
    "name": "ipython",
    "version": 3
   },
   "file_extension": ".py",
   "mimetype": "text/x-python",
   "name": "python",
   "nbconvert_exporter": "python",
   "pygments_lexer": "ipython3",
   "version": "3.11.2"
  },
  "orig_nbformat": 4
 },
 "nbformat": 4,
 "nbformat_minor": 2
}
